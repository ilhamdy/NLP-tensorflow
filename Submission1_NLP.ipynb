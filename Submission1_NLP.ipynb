{
  "nbformat": 4,
  "nbformat_minor": 0,
  "metadata": {
    "colab": {
      "provenance": []
    },
    "kernelspec": {
      "name": "python3",
      "display_name": "Python 3"
    },
    "language_info": {
      "name": "python"
    }
  },
  "cells": [
    {
      "cell_type": "markdown",
      "source": [
        "# Membuat Model NPL dengan Tensorflow"
      ],
      "metadata": {
        "id": "aoIUkEcjP-j7"
      }
    },
    {
      "cell_type": "markdown",
      "source": [
        "\n",
        "**Data Diri**\n",
        "*   Nama : Ilham Dwi Yanto\n",
        "*   Domisili : Madiun, Jawa Timur\n",
        "*   Email : ilham.dy18@gmail.com \n",
        "\n",
        "\n"
      ],
      "metadata": {
        "id": "LDbAtm3Bj5jd"
      }
    },
    {
      "cell_type": "code",
      "source": [
        "import numpy as np \n",
        "import pandas as pd\n",
        "from sklearn.model_selection import train_test_split\n",
        "from sklearn.feature_extraction.text import CountVectorizer\n",
        "from tensorflow.keras.preprocessing.text import Tokenizer\n",
        "from tensorflow.keras.preprocessing.sequence import pad_sequences\n",
        "from tensorflow.keras.models import Sequential\n",
        "from tensorflow.keras.layers import Embedding, LSTM, SpatialDropout1D, Dense\n",
        "from keras.utils.np_utils import to_categorical\n",
        "from tensorflow.keras.callbacks import EarlyStopping"
      ],
      "metadata": {
        "id": "HYZVkrlMGiGL"
      },
      "execution_count": 1,
      "outputs": []
    },
    {
      "cell_type": "code",
      "source": [
        "df = pd.read_csv('/content/bitcoin_articles.csv', usecols=['title', 'topic'])\n",
        "df.head()"
      ],
      "metadata": {
        "colab": {
          "base_uri": "https://localhost:8080/",
          "height": 206
        },
        "id": "_lnGHQbMHVHG",
        "outputId": "1209d299-7ddd-4a42-fe87-9c118b3e93e8"
      },
      "execution_count": 2,
      "outputs": [
        {
          "output_type": "execute_result",
          "data": {
            "text/plain": [
              "                                               title     topic\n",
              "0  62% of Bitcoin Has Not Moved in a Year as Long...   finance\n",
              "1                    The Orange Party Issue Playlist      news\n",
              "2                       How Many Bitcoins Are There?      news\n",
              "3  Bitcoin 2008–2022: From Bouncing Baby To Troub...  business\n",
              "4  Bitcoin Lightning Network capacity strikes 5,0...      news"
            ],
            "text/html": [
              "\n",
              "  <div id=\"df-91169044-b9f7-43dc-9e41-265cbcd26a13\">\n",
              "    <div class=\"colab-df-container\">\n",
              "      <div>\n",
              "<style scoped>\n",
              "    .dataframe tbody tr th:only-of-type {\n",
              "        vertical-align: middle;\n",
              "    }\n",
              "\n",
              "    .dataframe tbody tr th {\n",
              "        vertical-align: top;\n",
              "    }\n",
              "\n",
              "    .dataframe thead th {\n",
              "        text-align: right;\n",
              "    }\n",
              "</style>\n",
              "<table border=\"1\" class=\"dataframe\">\n",
              "  <thead>\n",
              "    <tr style=\"text-align: right;\">\n",
              "      <th></th>\n",
              "      <th>title</th>\n",
              "      <th>topic</th>\n",
              "    </tr>\n",
              "  </thead>\n",
              "  <tbody>\n",
              "    <tr>\n",
              "      <th>0</th>\n",
              "      <td>62% of Bitcoin Has Not Moved in a Year as Long...</td>\n",
              "      <td>finance</td>\n",
              "    </tr>\n",
              "    <tr>\n",
              "      <th>1</th>\n",
              "      <td>The Orange Party Issue Playlist</td>\n",
              "      <td>news</td>\n",
              "    </tr>\n",
              "    <tr>\n",
              "      <th>2</th>\n",
              "      <td>How Many Bitcoins Are There?</td>\n",
              "      <td>news</td>\n",
              "    </tr>\n",
              "    <tr>\n",
              "      <th>3</th>\n",
              "      <td>Bitcoin 2008–2022: From Bouncing Baby To Troub...</td>\n",
              "      <td>business</td>\n",
              "    </tr>\n",
              "    <tr>\n",
              "      <th>4</th>\n",
              "      <td>Bitcoin Lightning Network capacity strikes 5,0...</td>\n",
              "      <td>news</td>\n",
              "    </tr>\n",
              "  </tbody>\n",
              "</table>\n",
              "</div>\n",
              "      <button class=\"colab-df-convert\" onclick=\"convertToInteractive('df-91169044-b9f7-43dc-9e41-265cbcd26a13')\"\n",
              "              title=\"Convert this dataframe to an interactive table.\"\n",
              "              style=\"display:none;\">\n",
              "        \n",
              "  <svg xmlns=\"http://www.w3.org/2000/svg\" height=\"24px\"viewBox=\"0 0 24 24\"\n",
              "       width=\"24px\">\n",
              "    <path d=\"M0 0h24v24H0V0z\" fill=\"none\"/>\n",
              "    <path d=\"M18.56 5.44l.94 2.06.94-2.06 2.06-.94-2.06-.94-.94-2.06-.94 2.06-2.06.94zm-11 1L8.5 8.5l.94-2.06 2.06-.94-2.06-.94L8.5 2.5l-.94 2.06-2.06.94zm10 10l.94 2.06.94-2.06 2.06-.94-2.06-.94-.94-2.06-.94 2.06-2.06.94z\"/><path d=\"M17.41 7.96l-1.37-1.37c-.4-.4-.92-.59-1.43-.59-.52 0-1.04.2-1.43.59L10.3 9.45l-7.72 7.72c-.78.78-.78 2.05 0 2.83L4 21.41c.39.39.9.59 1.41.59.51 0 1.02-.2 1.41-.59l7.78-7.78 2.81-2.81c.8-.78.8-2.07 0-2.86zM5.41 20L4 18.59l7.72-7.72 1.47 1.35L5.41 20z\"/>\n",
              "  </svg>\n",
              "      </button>\n",
              "      \n",
              "  <style>\n",
              "    .colab-df-container {\n",
              "      display:flex;\n",
              "      flex-wrap:wrap;\n",
              "      gap: 12px;\n",
              "    }\n",
              "\n",
              "    .colab-df-convert {\n",
              "      background-color: #E8F0FE;\n",
              "      border: none;\n",
              "      border-radius: 50%;\n",
              "      cursor: pointer;\n",
              "      display: none;\n",
              "      fill: #1967D2;\n",
              "      height: 32px;\n",
              "      padding: 0 0 0 0;\n",
              "      width: 32px;\n",
              "    }\n",
              "\n",
              "    .colab-df-convert:hover {\n",
              "      background-color: #E2EBFA;\n",
              "      box-shadow: 0px 1px 2px rgba(60, 64, 67, 0.3), 0px 1px 3px 1px rgba(60, 64, 67, 0.15);\n",
              "      fill: #174EA6;\n",
              "    }\n",
              "\n",
              "    [theme=dark] .colab-df-convert {\n",
              "      background-color: #3B4455;\n",
              "      fill: #D2E3FC;\n",
              "    }\n",
              "\n",
              "    [theme=dark] .colab-df-convert:hover {\n",
              "      background-color: #434B5C;\n",
              "      box-shadow: 0px 1px 3px 1px rgba(0, 0, 0, 0.15);\n",
              "      filter: drop-shadow(0px 1px 2px rgba(0, 0, 0, 0.3));\n",
              "      fill: #FFFFFF;\n",
              "    }\n",
              "  </style>\n",
              "\n",
              "      <script>\n",
              "        const buttonEl =\n",
              "          document.querySelector('#df-91169044-b9f7-43dc-9e41-265cbcd26a13 button.colab-df-convert');\n",
              "        buttonEl.style.display =\n",
              "          google.colab.kernel.accessAllowed ? 'block' : 'none';\n",
              "\n",
              "        async function convertToInteractive(key) {\n",
              "          const element = document.querySelector('#df-91169044-b9f7-43dc-9e41-265cbcd26a13');\n",
              "          const dataTable =\n",
              "            await google.colab.kernel.invokeFunction('convertToInteractive',\n",
              "                                                     [key], {});\n",
              "          if (!dataTable) return;\n",
              "\n",
              "          const docLinkHtml = 'Like what you see? Visit the ' +\n",
              "            '<a target=\"_blank\" href=https://colab.research.google.com/notebooks/data_table.ipynb>data table notebook</a>'\n",
              "            + ' to learn more about interactive tables.';\n",
              "          element.innerHTML = '';\n",
              "          dataTable['output_type'] = 'display_data';\n",
              "          await google.colab.output.renderOutput(dataTable, element);\n",
              "          const docLink = document.createElement('div');\n",
              "          docLink.innerHTML = docLinkHtml;\n",
              "          element.appendChild(docLink);\n",
              "        }\n",
              "      </script>\n",
              "    </div>\n",
              "  </div>\n",
              "  "
            ]
          },
          "metadata": {},
          "execution_count": 2
        }
      ]
    },
    {
      "cell_type": "code",
      "source": [
        "df.shape"
      ],
      "metadata": {
        "colab": {
          "base_uri": "https://localhost:8080/"
        },
        "id": "X2RfArsNKzws",
        "outputId": "c4a4a6fe-706c-4f8e-be70-37759aca8310"
      },
      "execution_count": 3,
      "outputs": [
        {
          "output_type": "execute_result",
          "data": {
            "text/plain": [
              "(2500, 2)"
            ]
          },
          "metadata": {},
          "execution_count": 3
        }
      ]
    },
    {
      "cell_type": "code",
      "source": [
        "df.topic.value_counts()"
      ],
      "metadata": {
        "colab": {
          "base_uri": "https://localhost:8080/"
        },
        "id": "u7EyF3sPHquz",
        "outputId": "0ddde6ea-0566-49a6-a7dc-50141544df15"
      },
      "execution_count": 4,
      "outputs": [
        {
          "output_type": "execute_result",
          "data": {
            "text/plain": [
              "news             1985\n",
              "finance           388\n",
              "business           79\n",
              "tech               20\n",
              "economics          11\n",
              "world               6\n",
              "entertainment       3\n",
              "science             2\n",
              "beauty              2\n",
              "politics            1\n",
              "sport               1\n",
              "food                1\n",
              "energy              1\n",
              "Name: topic, dtype: int64"
            ]
          },
          "metadata": {},
          "execution_count": 4
        }
      ]
    },
    {
      "cell_type": "code",
      "source": [
        "df.topic.loc[(df['topic'] == \"economics\") | (df['topic'] == \"world\") | (df['topic'] == \"entertainment\") | \n",
        "             (df['topic'] == \"science\") | (df['topic'] == \"beauty\") | (df['topic'] == \"politics\") | \n",
        "             (df['topic'] == \"sport\") | (df['topic'] == \"food\") | (df['topic'] == \"energy\") | \n",
        "             (df['topic'] == \"tech\")] = \"others topic\"\n",
        "\n",
        "df.reset_index(inplace = True)\n",
        "df.drop('index', axis='columns', inplace=True)"
      ],
      "metadata": {
        "id": "4wP3YVvxIK3j"
      },
      "execution_count": 5,
      "outputs": []
    },
    {
      "cell_type": "code",
      "source": [
        "df.topic.value_counts()"
      ],
      "metadata": {
        "colab": {
          "base_uri": "https://localhost:8080/"
        },
        "id": "p8zv0rfkKbBn",
        "outputId": "bf50f1b5-5ab2-4acb-f562-826466552a12"
      },
      "execution_count": 6,
      "outputs": [
        {
          "output_type": "execute_result",
          "data": {
            "text/plain": [
              "news            1985\n",
              "finance          388\n",
              "business          79\n",
              "others topic      48\n",
              "Name: topic, dtype: int64"
            ]
          },
          "metadata": {},
          "execution_count": 6
        }
      ]
    },
    {
      "cell_type": "code",
      "source": [
        "num_word = 50000\n",
        "\n",
        "ubah_df = df.reindex(np.random.permutation(df.index))\n",
        "\n",
        "news = ubah_df[ubah_df['topic'] == 'news'][:num_word]\n",
        "finance = ubah_df[ubah_df['topic'] == 'finance'][:num_word]\n",
        "business = ubah_df[ubah_df['topic'] == 'business'][:num_word]\n",
        "others_topic = ubah_df[ubah_df['topic'] == 'others topic'][:num_word]\n",
        "\n",
        "df_baru = pd.concat([news, finance, business, others_topic], ignore_index=True)\n",
        "\n",
        "df_baru = df_baru.reindex(np.random.permutation(df_baru.index))\n",
        "df_baru['label'] = 0"
      ],
      "metadata": {
        "id": "h37rxbfGH2Rz"
      },
      "execution_count": 7,
      "outputs": []
    },
    {
      "cell_type": "code",
      "source": [
        "df_baru.loc[df_baru['topic'] == 'news', 'label'] = 0\n",
        "df_baru.loc[df_baru['topic'] == 'finance', 'label'] = 1\n",
        "df_baru.loc[df_baru['topic'] == 'business', 'label'] = 2\n",
        "df_baru.loc[df_baru['topic'] == 'others topic', 'label'] = 3\n",
        "\n",
        "print(df_baru['label'][:10])"
      ],
      "metadata": {
        "colab": {
          "base_uri": "https://localhost:8080/"
        },
        "id": "pe2bfLSwLmhZ",
        "outputId": "039fd4e8-7bbe-4553-f473-9f028be991f3"
      },
      "execution_count": 8,
      "outputs": [
        {
          "output_type": "stream",
          "name": "stdout",
          "text": [
            "8       0\n",
            "265     0\n",
            "638     0\n",
            "56      0\n",
            "2272    1\n",
            "1213    0\n",
            "2038    1\n",
            "463     0\n",
            "57      0\n",
            "91      0\n",
            "Name: label, dtype: int64\n"
          ]
        }
      ]
    },
    {
      "cell_type": "code",
      "source": [
        "labels = to_categorical(df_baru['label'], num_classes=4)\n",
        "\n",
        "print(labels[:10])"
      ],
      "metadata": {
        "colab": {
          "base_uri": "https://localhost:8080/"
        },
        "id": "nubQWXoXLtg4",
        "outputId": "ba10272f-7fc9-47bf-9b89-05ee51897360"
      },
      "execution_count": 9,
      "outputs": [
        {
          "output_type": "stream",
          "name": "stdout",
          "text": [
            "[[1. 0. 0. 0.]\n",
            " [1. 0. 0. 0.]\n",
            " [1. 0. 0. 0.]\n",
            " [1. 0. 0. 0.]\n",
            " [0. 1. 0. 0.]\n",
            " [1. 0. 0. 0.]\n",
            " [0. 1. 0. 0.]\n",
            " [1. 0. 0. 0.]\n",
            " [1. 0. 0. 0.]\n",
            " [1. 0. 0. 0.]]\n"
          ]
        }
      ]
    },
    {
      "cell_type": "code",
      "source": [
        "max_words = 5000\n",
        "max_len = 150\n",
        "\n",
        "tokenizer = Tokenizer(num_words=max_words, filters='!\"#$%&()*+,-./:;<=>?@[\\]^_`{|}~', oov_token='x', lower=True)\n",
        "tokenizer.fit_on_texts(df_baru['title'].values)\n",
        "sequences = tokenizer.texts_to_sequences(df_baru['title'].values)\n",
        "word_index = tokenizer.word_index\n",
        "print('Ditemukan %s tokens unik.' % len(word_index))\n",
        "\n",
        "X = pad_sequences(sequences, maxlen=max_len, padding='post', truncating='post')"
      ],
      "metadata": {
        "colab": {
          "base_uri": "https://localhost:8080/"
        },
        "id": "8i1_c664NYwC",
        "outputId": "2cd3db5f-8c54-4645-ff44-0f4e037df9ff"
      },
      "execution_count": 10,
      "outputs": [
        {
          "output_type": "stream",
          "name": "stdout",
          "text": [
            "Ditemukan 3673 tokens unik.\n"
          ]
        }
      ]
    },
    {
      "cell_type": "code",
      "source": [
        "X_train, X_test, y_train, y_test = train_test_split(X , labels, test_size=0.25, random_state=42)"
      ],
      "metadata": {
        "id": "xERvWwsbNoGC"
      },
      "execution_count": 11,
      "outputs": []
    },
    {
      "cell_type": "code",
      "source": [
        "print((X_train.shape, y_train.shape, X_test.shape, y_test.shape))"
      ],
      "metadata": {
        "colab": {
          "base_uri": "https://localhost:8080/"
        },
        "id": "9fUZpJskNv7x",
        "outputId": "97290617-a24f-44bc-fd99-6b48c59d7498"
      },
      "execution_count": 12,
      "outputs": [
        {
          "output_type": "stream",
          "name": "stdout",
          "text": [
            "((1875, 150), (1875, 4), (625, 150), (625, 4))\n"
          ]
        }
      ]
    },
    {
      "cell_type": "code",
      "source": [
        "epochs = 20\n",
        "emb_dim = 128\n",
        "batch_size = 64\n",
        "\n",
        "labels[:10]"
      ],
      "metadata": {
        "colab": {
          "base_uri": "https://localhost:8080/"
        },
        "id": "8a9aDN-INrbC",
        "outputId": "a3c536bf-b6d1-4dc1-bb7e-d0b9691e2da4"
      },
      "execution_count": 13,
      "outputs": [
        {
          "output_type": "execute_result",
          "data": {
            "text/plain": [
              "array([[1., 0., 0., 0.],\n",
              "       [1., 0., 0., 0.],\n",
              "       [1., 0., 0., 0.],\n",
              "       [1., 0., 0., 0.],\n",
              "       [0., 1., 0., 0.],\n",
              "       [1., 0., 0., 0.],\n",
              "       [0., 1., 0., 0.],\n",
              "       [1., 0., 0., 0.],\n",
              "       [1., 0., 0., 0.],\n",
              "       [1., 0., 0., 0.]], dtype=float32)"
            ]
          },
          "metadata": {},
          "execution_count": 13
        }
      ]
    },
    {
      "cell_type": "code",
      "source": [
        "model = Sequential()\n",
        "model.add(Embedding(max_words, emb_dim, input_length=X.shape[1]))\n",
        "model.add(SpatialDropout1D(0.7))\n",
        "model.add(LSTM(64, dropout=0.7, recurrent_dropout=0.7))\n",
        "model.add(Dense(4, activation='softmax'))\n",
        "\n",
        "model.compile(optimizer='adam', loss='categorical_crossentropy', metrics=['accuracy'])\n",
        "\n",
        "print(model.summary())"
      ],
      "metadata": {
        "colab": {
          "base_uri": "https://localhost:8080/"
        },
        "id": "ybaOVXWVN-QC",
        "outputId": "d27148be-4d5c-40a3-b9be-1e9649b5919a"
      },
      "execution_count": 14,
      "outputs": [
        {
          "output_type": "stream",
          "name": "stdout",
          "text": [
            "Model: \"sequential\"\n",
            "_________________________________________________________________\n",
            " Layer (type)                Output Shape              Param #   \n",
            "=================================================================\n",
            " embedding (Embedding)       (None, 150, 128)          640000    \n",
            "                                                                 \n",
            " spatial_dropout1d (SpatialD  (None, 150, 128)         0         \n",
            " ropout1D)                                                       \n",
            "                                                                 \n",
            " lstm (LSTM)                 (None, 64)                49408     \n",
            "                                                                 \n",
            " dense (Dense)               (None, 4)                 260       \n",
            "                                                                 \n",
            "=================================================================\n",
            "Total params: 689,668\n",
            "Trainable params: 689,668\n",
            "Non-trainable params: 0\n",
            "_________________________________________________________________\n",
            "None\n"
          ]
        }
      ]
    },
    {
      "cell_type": "code",
      "source": [
        "history = model.fit(X_train, y_train, \n",
        "                    epochs=epochs, batch_size=batch_size,\n",
        "                    validation_split=0.2,\n",
        "                    callbacks=[EarlyStopping(monitor='val_loss', patience=5, min_delta=0.0001)])"
      ],
      "metadata": {
        "colab": {
          "base_uri": "https://localhost:8080/"
        },
        "id": "o_Ya_8CtWfkm",
        "outputId": "0b2eabab-cb05-4413-af26-78408b786cbc"
      },
      "execution_count": 15,
      "outputs": [
        {
          "output_type": "stream",
          "name": "stdout",
          "text": [
            "Epoch 1/20\n",
            "24/24 [==============================] - 13s 391ms/step - loss: 0.9126 - accuracy: 0.7600 - val_loss: 0.7051 - val_accuracy: 0.7893\n",
            "Epoch 2/20\n",
            "24/24 [==============================] - 9s 365ms/step - loss: 0.6678 - accuracy: 0.7940 - val_loss: 0.6943 - val_accuracy: 0.7893\n",
            "Epoch 3/20\n",
            "24/24 [==============================] - 10s 407ms/step - loss: 0.6616 - accuracy: 0.7940 - val_loss: 0.6874 - val_accuracy: 0.7893\n",
            "Epoch 4/20\n",
            "24/24 [==============================] - 9s 369ms/step - loss: 0.6623 - accuracy: 0.7940 - val_loss: 0.6858 - val_accuracy: 0.7893\n",
            "Epoch 5/20\n",
            "24/24 [==============================] - 9s 397ms/step - loss: 0.6626 - accuracy: 0.7940 - val_loss: 0.6925 - val_accuracy: 0.7893\n",
            "Epoch 6/20\n",
            "24/24 [==============================] - 9s 372ms/step - loss: 0.6633 - accuracy: 0.7940 - val_loss: 0.6934 - val_accuracy: 0.7893\n",
            "Epoch 7/20\n",
            "24/24 [==============================] - 9s 368ms/step - loss: 0.6643 - accuracy: 0.7940 - val_loss: 0.7021 - val_accuracy: 0.7893\n",
            "Epoch 8/20\n",
            "24/24 [==============================] - 9s 369ms/step - loss: 0.6659 - accuracy: 0.7940 - val_loss: 0.6859 - val_accuracy: 0.7893\n",
            "Epoch 9/20\n",
            "24/24 [==============================] - 10s 419ms/step - loss: 0.6669 - accuracy: 0.7940 - val_loss: 0.6841 - val_accuracy: 0.7893\n",
            "Epoch 10/20\n",
            "24/24 [==============================] - 9s 372ms/step - loss: 0.6629 - accuracy: 0.7940 - val_loss: 0.6904 - val_accuracy: 0.7893\n",
            "Epoch 11/20\n",
            "24/24 [==============================] - 9s 368ms/step - loss: 0.6622 - accuracy: 0.7940 - val_loss: 0.6852 - val_accuracy: 0.7893\n",
            "Epoch 12/20\n",
            "24/24 [==============================] - 9s 368ms/step - loss: 0.6631 - accuracy: 0.7940 - val_loss: 0.6885 - val_accuracy: 0.7893\n",
            "Epoch 13/20\n",
            "24/24 [==============================] - 9s 368ms/step - loss: 0.6635 - accuracy: 0.7940 - val_loss: 0.6846 - val_accuracy: 0.7893\n",
            "Epoch 14/20\n",
            "24/24 [==============================] - 9s 371ms/step - loss: 0.6668 - accuracy: 0.7940 - val_loss: 0.6850 - val_accuracy: 0.7893\n"
          ]
        }
      ]
    },
    {
      "cell_type": "code",
      "source": [
        "accuracy = model.evaluate(X_test, y_test)\n",
        "print('Test set\\n  Loss: {:0.3f}\\n  Accuracy: {:0.3f}'.format(accuracy[0],accuracy[1]))"
      ],
      "metadata": {
        "colab": {
          "base_uri": "https://localhost:8080/"
        },
        "id": "edrUNE6XSJue",
        "outputId": "472264c9-8eac-49d4-90e5-c21fdb63c49a"
      },
      "execution_count": 16,
      "outputs": [
        {
          "output_type": "stream",
          "name": "stdout",
          "text": [
            "20/20 [==============================] - 1s 35ms/step - loss: 0.6375 - accuracy: 0.7968\n",
            "Test set\n",
            "  Loss: 0.638\n",
            "  Accuracy: 0.797\n"
          ]
        }
      ]
    },
    {
      "cell_type": "code",
      "source": [
        "import matplotlib.pyplot as plt\n",
        "\n",
        "accu = history.history['accuracy']\n",
        "val_accu = history.history['val_accuracy']\n",
        "loss = history.history['loss']\n",
        "val_loss = history.history['val_loss']\n",
        "\n",
        "epochs = range(1, len(accu) + 1)\n",
        "\n",
        "plt.plot(epochs, accu, 'bo', label='Training accuracy')\n",
        "plt.plot(epochs, val_accu, 'b', label='Validation accuracy')\n",
        "plt.title('Training and validation accuracy')\n",
        "plt.legend()\n",
        "\n",
        "plt.figure()\n",
        "\n",
        "plt.plot(epochs, loss, 'bo', label='Training loss')\n",
        "plt.plot(epochs, val_loss, 'b', label='Validation loss')\n",
        "plt.title('Training and validation loss')\n",
        "plt.legend()\n",
        "\n",
        "plt.show()"
      ],
      "metadata": {
        "colab": {
          "base_uri": "https://localhost:8080/",
          "height": 545
        },
        "id": "d6gUGk_OZoeF",
        "outputId": "9ee993a9-c832-484f-8f67-62c06cee0c03"
      },
      "execution_count": 17,
      "outputs": [
        {
          "output_type": "display_data",
          "data": {
            "text/plain": [
              "<Figure size 432x288 with 1 Axes>"
            ],
            "image/png": "[encoded data removed]"
          },
          "metadata": {
            "needs_background": "light"
          }
        },
        {
          "output_type": "display_data",
          "data": {
            "text/plain": [
              "<Figure size 432x288 with 1 Axes>"
            ],
            "image/png": "[encoded data removed]"
          },
          "metadata": {
            "needs_background": "light"
          }
        }
      ]
    },
    {
      "cell_type": "code",
      "source": [
        "ex_title = [\"The Orange Party Issue Playlist\"]\n",
        "labels = ['news', 'bussiness', 'finance', 'others topic']\n",
        "\n",
        "seq = tokenizer.texts_to_sequences(ex_title)\n",
        "padded = pad_sequences(seq, maxlen=max_len)\n",
        "pred = model.predict(padded)\n",
        "\n",
        "print(pred, labels[np.argmax(pred)])"
      ],
      "metadata": {
        "colab": {
          "base_uri": "https://localhost:8080/"
        },
        "id": "YZWkUeNVOuu_",
        "outputId": "2a2041eb-eabb-44bc-d384-4537ad2c2bde"
      },
      "execution_count": 18,
      "outputs": [
        {
          "output_type": "stream",
          "name": "stdout",
          "text": [
            "1/1 [==============================] - 0s 421ms/step\n",
            "[[0.7600826  0.17938441 0.03404971 0.02648323]] news\n"
          ]
        }
      ]
    }
  ]
}